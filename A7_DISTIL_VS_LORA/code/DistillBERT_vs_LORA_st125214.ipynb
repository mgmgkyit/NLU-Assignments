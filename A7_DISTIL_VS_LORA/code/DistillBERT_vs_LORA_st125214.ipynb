{
 "cells": [
  {
   "cell_type": "markdown",
   "metadata": {},
   "source": [
    "# [ DistillBERT vs LORA - with Low Rank Adaptation ]\n",
    "\n",
    "st125214 - Maung Maung Kyi Tha\n",
    "\n",
    "Exploring the comparison between Odd Layer and Even Layer Student Training Models and LoRA (Low-Rank Adaptation) on a distillation task using BERT."
   ]
  },
  {
   "cell_type": "code",
   "execution_count": 1,
   "metadata": {},
   "outputs": [],
   "source": [
    "# Environment Setup\n",
    "\n",
    "# General Maintenance\n",
    "import numpy as np  \n",
    "#import random, math, time\n",
    "#import re, os\n",
    "\n",
    "# For loading the HuggingFace dataset\n",
    "import datasets\n",
    "from datasets import load_dataset\n",
    "from datasets import DatasetDict\n",
    "\n",
    "# For tokenization and data collation\n",
    "import transformers\n",
    "from transformers import AutoModelForSequenceClassification, AutoTokenizer\n",
    "from transformers import DataCollatorWithPadding\n",
    "from transformers import get_scheduler\n",
    "from transformers.models.bert.modeling_bert import BertModel, BertPreTrainedModel, BertConfig\n",
    "\n",
    "# For training the model\n",
    "import torch\n",
    "import torch.nn as nn\n",
    "import torch.nn.functional as F\n",
    "import torch.optim as optim\n",
    "from torch.utils.data import DataLoader\n",
    "from tqdm.auto import tqdm\n",
    "\n",
    "# For evaluation of models\n",
    "import evaluate\n",
    "\n",
    "# For plotting accuracy and loss graphs\n",
    "import matplotlib.pyplot as plt"
   ]
  },
  {
   "cell_type": "code",
   "execution_count": 2,
   "metadata": {},
   "outputs": [
    {
     "name": "stdout",
     "output_type": "stream",
     "text": [
      "Using cuda\n",
      "Available GPUs: 1\n",
      "Using Cuda Version : 11.8\n",
      "GPU 0: NVIDIA GeForce RTX 4050 Laptop GPU\n"
     ]
    }
   ],
   "source": [
    "# setting device to GPU cuda if available\n",
    "device = torch.device('cuda' if torch.cuda.is_available() else 'cpu')\n",
    "print(f\"Using {device}\")\n",
    "print(\"Available GPUs:\", torch.cuda.device_count())\n",
    "print(\"Using Cuda Version :\", torch.version.cuda)\n",
    "for i in range(torch.cuda.device_count()):\n",
    "    print(f\"GPU {i}: {torch.cuda.get_device_name(i)}\")\n",
    "\n",
    "# Seet my seed for consistent results\n",
    "SEED = 75\n",
    "torch.manual_seed(SEED)\n",
    "\n",
    "# Making sure we get the same results on each run\n",
    "torch.backends.cudnn.deterministic = True\n",
    "\n",
    "# Disable user warnings for neater output\n",
    "import warnings\n",
    "warnings.filterwarnings(\"ignore\", category=UserWarning)"
   ]
  },
  {
   "cell_type": "markdown",
   "metadata": {},
   "source": [
    "### 1. Source Discovery for Hate Speech/Toxic Comment Dataset\n",
    "I use \"thefrankhsu/hate_speech_twitter\" hate speech classification dataset, which contains samples form twitter tweets.\n",
    "\n",
    "The dataset comprises three key features: tweets, labels (with hate speech denoted as 1 and non-hate speech as 0), and categories.\n",
    "\n",
    "Source : https://huggingface.co/datasets/thefrankhsu/hate_speech_twitter\n"
   ]
  },
  {
   "cell_type": "code",
   "execution_count": 3,
   "metadata": {},
   "outputs": [
    {
     "name": "stdout",
     "output_type": "stream",
     "text": [
      "DatasetDict({\n",
      "    train: Dataset({\n",
      "        features: ['tweet', 'label', 'categories'],\n",
      "        num_rows: 5679\n",
      "    })\n",
      "    test: Dataset({\n",
      "        features: ['tweet', 'label', 'categories'],\n",
      "        num_rows: 1000\n",
      "    })\n",
      "})\n",
      "{'tweet': 'krazy i dont always get drunk and pass out but when i do when did they start making colored duct tape', 'label': 0, 'categories': None}\n"
     ]
    }
   ],
   "source": [
    "dataset = load_dataset(\"thefrankhsu/hate_speech_twitter\")\n",
    "print(dataset)\n",
    "print(dataset['train'][0])"
   ]
  },
  {
   "cell_type": "code",
   "execution_count": 4,
   "metadata": {},
   "outputs": [
    {
     "name": "stdout",
     "output_type": "stream",
     "text": [
      "['tweet', 'label', 'categories']\n"
     ]
    }
   ],
   "source": [
    "print(dataset[\"train\"].column_names)"
   ]
  },
  {
   "cell_type": "code",
   "execution_count": 5,
   "metadata": {},
   "outputs": [],
   "source": [
    "# Round the training data to 5000 samples for better performance and calculation\n",
    "\n",
    "dataset = DatasetDict({\n",
    "    \"train\": dataset[\"train\"].select(range(5000)),\n",
    "    \"test\": dataset[\"test\"]\n",
    "})"
   ]
  },
  {
   "cell_type": "code",
   "execution_count": 6,
   "metadata": {},
   "outputs": [],
   "source": [
    "# define label list\n",
    "#label_list = [\"hate_speech\", \"offensive_language\", \"neither\"]\n",
    "label_list = [\"non_hate_speech\", \"hate_speech\", \"neither\"]\n",
    "\n",
    "label2id = {label: idx for idx, label in enumerate(label_list)}\n",
    "id2label = {idx: label for label, idx in label2id.items()}"
   ]
  },
  {
   "cell_type": "code",
   "execution_count": 7,
   "metadata": {},
   "outputs": [],
   "source": [
    "# Assign feature key\n",
    "task_to_keys = {\"hatexplain\": \"tweet\"}\n",
    "task_name = \"hatexplain\"\n",
    "sentence_key = task_to_keys[task_name]"
   ]
  },
  {
   "cell_type": "code",
   "execution_count": 8,
   "metadata": {},
   "outputs": [
    {
     "name": "stdout",
     "output_type": "stream",
     "text": [
      "DatasetDict({\n",
      "    train: Dataset({\n",
      "        features: ['tweet', 'label', 'categories'],\n",
      "        num_rows: 5000\n",
      "    })\n",
      "    test: Dataset({\n",
      "        features: ['tweet', 'label', 'categories'],\n",
      "        num_rows: 1000\n",
      "    })\n",
      "})\n",
      "Example: krazy i dont always get drunk and pass out but when i do when did they start making colored duct tape\n",
      "Label2ID: {'non_hate_speech': 0, 'hate_speech': 1, 'neither': 2}\n",
      "ID2Label: {0: 'non_hate_speech', 1: 'hate_speech', 2: 'neither'}\n"
     ]
    }
   ],
   "source": [
    "# Print dataset overview\n",
    "print(dataset)\n",
    "print(\"Example:\", dataset[\"train\"][0][sentence_key])\n",
    "print(\"Label2ID:\", label2id)\n",
    "print(\"ID2Label:\", id2label)"
   ]
  },
  {
   "cell_type": "markdown",
   "metadata": {},
   "source": [
    "#### Tokenize the Dataset"
   ]
  },
  {
   "cell_type": "code",
   "execution_count": 9,
   "metadata": {},
   "outputs": [
    {
     "name": "stderr",
     "output_type": "stream",
     "text": [
      "Some weights of BertForSequenceClassification were not initialized from the model checkpoint at bert-base-uncased and are newly initialized: ['classifier.bias', 'classifier.weight']\n",
      "You should probably TRAIN this model on a down-stream task to be able to use it for predictions and inference.\n"
     ]
    }
   ],
   "source": [
    "# Load BERT tokenizer\n",
    "teacher_id = \"bert-base-uncased\"\n",
    "tokenizer = AutoTokenizer.from_pretrained(teacher_id)\n",
    "\n",
    "# Load Teacher Model (BERT)\n",
    "teacher_model = AutoModelForSequenceClassification.from_pretrained(\n",
    "    teacher_id, \n",
    "    num_labels=3,\n",
    "    id2label=id2label,\n",
    "    label2id=label2id,\n",
    ")"
   ]
  },
  {
   "cell_type": "code",
   "execution_count": 10,
   "metadata": {},
   "outputs": [
    {
     "data": {
      "application/vnd.jupyter.widget-view+json": {
       "model_id": "74002a4d33ea483592c00459220412ef",
       "version_major": 2,
       "version_minor": 0
      },
      "text/plain": [
       "Map:   0%|          | 0/1000 [00:00<?, ? examples/s]"
      ]
     },
     "metadata": {},
     "output_type": "display_data"
    },
    {
     "name": "stdout",
     "output_type": "stream",
     "text": [
      "tensor([  101,  1047, 20409,  2100,  1045,  2123,  2102,  2467,  2131,  7144,\n",
      "         1998,  3413,  2041,  2021,  2043,  1045,  2079,  2043,  2106,  2027,\n",
      "         2707,  2437,  6910, 23245,  6823,   102,     0,     0,     0,     0,\n",
      "            0,     0,     0,     0,     0,     0,     0,     0,     0,     0,\n",
      "            0,     0,     0,     0,     0,     0,     0,     0,     0,     0,\n",
      "            0,     0,     0,     0,     0,     0,     0,     0,     0,     0,\n",
      "            0,     0,     0,     0,     0,     0,     0,     0,     0,     0,\n",
      "            0,     0,     0,     0,     0,     0,     0,     0,     0,     0,\n",
      "            0,     0,     0,     0,     0,     0,     0,     0,     0,     0,\n",
      "            0,     0,     0,     0,     0,     0,     0,     0,     0,     0,\n",
      "            0,     0,     0,     0,     0,     0,     0,     0,     0,     0,\n",
      "            0,     0,     0,     0,     0,     0,     0,     0,     0,     0,\n",
      "            0,     0,     0,     0,     0,     0,     0,     0])\n",
      "[CLS] krazy i dont always get drunk and pass out but when i do when did they start making colored duct tape [SEP] [PAD] [PAD] [PAD] [PAD] [PAD] [PAD] [PAD] [PAD] [PAD] [PAD] [PAD] [PAD] [PAD] [PAD] [PAD] [PAD] [PAD] [PAD] [PAD] [PAD] [PAD] [PAD] [PAD] [PAD] [PAD] [PAD] [PAD] [PAD] [PAD] [PAD] [PAD] [PAD] [PAD] [PAD] [PAD] [PAD] [PAD] [PAD] [PAD] [PAD] [PAD] [PAD] [PAD] [PAD] [PAD] [PAD] [PAD] [PAD] [PAD] [PAD] [PAD] [PAD] [PAD] [PAD] [PAD] [PAD] [PAD] [PAD] [PAD] [PAD] [PAD] [PAD] [PAD] [PAD] [PAD] [PAD] [PAD] [PAD] [PAD] [PAD] [PAD] [PAD] [PAD] [PAD] [PAD] [PAD] [PAD] [PAD] [PAD] [PAD] [PAD] [PAD] [PAD] [PAD] [PAD] [PAD] [PAD] [PAD] [PAD] [PAD] [PAD] [PAD] [PAD] [PAD] [PAD] [PAD] [PAD] [PAD] [PAD] [PAD] [PAD] [PAD]\n"
     ]
    }
   ],
   "source": [
    "# Define a function to tokenize the dataset\n",
    "def tokenize_fn(batch):\n",
    "    return tokenizer(batch[\"tweet\"], max_length=128, \n",
    "                     padding=\"max_length\", truncation=True)\n",
    "\n",
    "# Tokenize the dataset\n",
    "encoded_dataset = dataset.map(tokenize_fn, batched=True)\n",
    "\n",
    "# Remove unnecessary columns from the dataset\n",
    "encoded_dataset = encoded_dataset.remove_columns([\"categories\", \"tweet\"])\n",
    "\n",
    "# Rename \"label\" column to \"labels\" for PyTorch compatibility\n",
    "encoded_dataset = encoded_dataset.rename_column(\"label\", \"labels\")\n",
    "\n",
    "# Set dataset format for PyTorch\n",
    "encoded_dataset.set_format(\"torch\")\n",
    "\n",
    "# Print an example tokenized input\n",
    "print(encoded_dataset[\"train\"][0][\"input_ids\"])\n",
    "print(tokenizer.decode(encoded_dataset[\"train\"][0][\"input_ids\"]))"
   ]
  },
  {
   "cell_type": "markdown",
   "metadata": {},
   "source": [
    "#### Preparing the Dataloader"
   ]
  },
  {
   "cell_type": "code",
   "execution_count": 11,
   "metadata": {},
   "outputs": [],
   "source": [
    "# Data Collator (Handles Dynamic Padding)\n",
    "data_collator = DataCollatorWithPadding(tokenizer=tokenizer)"
   ]
  },
  {
   "cell_type": "code",
   "execution_count": 12,
   "metadata": {},
   "outputs": [],
   "source": [
    "# Define dataset size for training efficiency and resource constraints\n",
    "small_train_dataset = encoded_dataset[\"train\"].shuffle(seed=75).select(range(5000))  # 5000 samples\n",
    "small_eval_dataset = encoded_dataset[\"train\"].shuffle(seed=75).select(range(1000))   # 1000 samples \n",
    "small_test_dataset = encoded_dataset[\"train\"].shuffle(seed=75).select(range(1000))   # 1000 samples "
   ]
  },
  {
   "cell_type": "code",
   "execution_count": 13,
   "metadata": {},
   "outputs": [],
   "source": [
    "# Create Dataloaders for training, evaluation, and testing\n",
    "train_dataloader = DataLoader(\n",
    "    small_train_dataset, shuffle=True, batch_size=32, collate_fn=data_collator\n",
    ")\n",
    "test_dataloader = DataLoader(\n",
    "    small_test_dataset, batch_size=32, collate_fn=data_collator\n",
    ")\n",
    "eval_dataloader = DataLoader(\n",
    "    small_eval_dataset, batch_size=32, collate_fn=data_collator\n",
    ")"
   ]
  },
  {
   "cell_type": "code",
   "execution_count": 14,
   "metadata": {},
   "outputs": [
    {
     "data": {
      "text/plain": [
       "(torch.Size([32]), torch.Size([32, 128]), torch.Size([32, 128]))"
      ]
     },
     "execution_count": 14,
     "metadata": {},
     "output_type": "execute_result"
    }
   ],
   "source": [
    "# Check first batch\n",
    "for batch in train_dataloader:\n",
    "    break\n",
    "\n",
    "batch['labels'].shape, batch['input_ids'].shape, batch['attention_mask'].shape"
   ]
  },
  {
   "cell_type": "markdown",
   "metadata": {},
   "source": [
    "## 2. Model Training for Even and Odds Layers"
   ]
  },
  {
   "cell_type": "code",
   "execution_count": 15,
   "metadata": {},
   "outputs": [],
   "source": [
    "# Get teacher configuration as a dictionary\n",
    "configuration = teacher_model.config.to_dict()\n",
    "\n",
    "# Half the number of hidden layers (6 instead of 12)\n",
    "configuration[\"num_hidden_layers\"] = 6\n",
    "\n",
    "# Convert dictionary to student configuration\n",
    "configuration = BertConfig.from_dict(configuration)"
   ]
  },
  {
   "cell_type": "code",
   "execution_count": 16,
   "metadata": {},
   "outputs": [],
   "source": [
    "# Create uninitialized student models for Odd & Even Layer Training\n",
    "student_model_odd = type(teacher_model)(configuration)\n",
    "student_model_even = type(teacher_model)(configuration)"
   ]
  },
  {
   "cell_type": "code",
   "execution_count": 17,
   "metadata": {},
   "outputs": [
    {
     "data": {
      "text/plain": [
       "BertForSequenceClassification(\n",
       "  (bert): BertModel(\n",
       "    (embeddings): BertEmbeddings(\n",
       "      (word_embeddings): Embedding(30522, 768, padding_idx=0)\n",
       "      (position_embeddings): Embedding(512, 768)\n",
       "      (token_type_embeddings): Embedding(2, 768)\n",
       "      (LayerNorm): LayerNorm((768,), eps=1e-12, elementwise_affine=True)\n",
       "      (dropout): Dropout(p=0.1, inplace=False)\n",
       "    )\n",
       "    (encoder): BertEncoder(\n",
       "      (layer): ModuleList(\n",
       "        (0-5): 6 x BertLayer(\n",
       "          (attention): BertAttention(\n",
       "            (self): BertSelfAttention(\n",
       "              (query): Linear(in_features=768, out_features=768, bias=True)\n",
       "              (key): Linear(in_features=768, out_features=768, bias=True)\n",
       "              (value): Linear(in_features=768, out_features=768, bias=True)\n",
       "              (dropout): Dropout(p=0.1, inplace=False)\n",
       "            )\n",
       "            (output): BertSelfOutput(\n",
       "              (dense): Linear(in_features=768, out_features=768, bias=True)\n",
       "              (LayerNorm): LayerNorm((768,), eps=1e-12, elementwise_affine=True)\n",
       "              (dropout): Dropout(p=0.1, inplace=False)\n",
       "            )\n",
       "          )\n",
       "          (intermediate): BertIntermediate(\n",
       "            (dense): Linear(in_features=768, out_features=3072, bias=True)\n",
       "            (intermediate_act_fn): GELUActivation()\n",
       "          )\n",
       "          (output): BertOutput(\n",
       "            (dense): Linear(in_features=3072, out_features=768, bias=True)\n",
       "            (LayerNorm): LayerNorm((768,), eps=1e-12, elementwise_affine=True)\n",
       "            (dropout): Dropout(p=0.1, inplace=False)\n",
       "          )\n",
       "        )\n",
       "      )\n",
       "    )\n",
       "    (pooler): BertPooler(\n",
       "      (dense): Linear(in_features=768, out_features=768, bias=True)\n",
       "      (activation): Tanh()\n",
       "    )\n",
       "  )\n",
       "  (dropout): Dropout(p=0.1, inplace=False)\n",
       "  (classifier): Linear(in_features=768, out_features=3, bias=True)\n",
       ")"
      ]
     },
     "execution_count": 17,
     "metadata": {},
     "output_type": "execute_result"
    }
   ],
   "source": [
    "# checking the model\n",
    "student_model_even"
   ]
  },
  {
   "cell_type": "markdown",
   "metadata": {},
   "source": [
    "#### Define Functions"
   ]
  },
  {
   "cell_type": "code",
   "execution_count": 18,
   "metadata": {},
   "outputs": [],
   "source": [
    "# Function for distilling BERT weights for Odd/Even Layer Training\n",
    "\n",
    "def distill_bert_weights(teacher, student, layer_type=\"odd\"):\n",
    "\n",
    "    \"\"\"\n",
    "    Copies weights from the teacher model to the student model.\n",
    "    Only copies odd or even layers as specified by `layer_type`.\n",
    "\n",
    "    layer_type: 'odd' -> {1,3,5,7,9,11} mapped to student {0,1,2,3,4,5}\n",
    "                'even' -> {2,4,6,8,10,12} mapped to student {0,1,2,3,4,5}\n",
    "    \"\"\"\n",
    "\n",
    "    if isinstance(teacher, BertModel) or isinstance(teacher, BertPreTrainedModel):\n",
    "        for teacher_part, student_part in zip(teacher.children(), student.children()):\n",
    "            distill_bert_weights(teacher_part, student_part, layer_type)\n",
    "\n",
    "    elif hasattr(teacher, \"encoder\") and hasattr(student, \"encoder\"):\n",
    "        teacher_encoding_layers = list(teacher.encoder.layer)  # 12 layers\n",
    "        student_encoding_layers = list(student.encoder.layer)  # 6 layers\n",
    "\n",
    "        if layer_type == \"odd\":\n",
    "            selected_layers = [teacher_encoding_layers[i] for i in range(12) if i % 2 == 0]  # {1,3,5,7,9,11}\n",
    "        else:  # Even layers\n",
    "            selected_layers = [teacher_encoding_layers[i] for i in range(12) if i % 2 == 1]  # {2,4,6,8,10,12}\n",
    "\n",
    "        # Ensure correct mapping to student layers\n",
    "        for i in range(len(student_encoding_layers)):\n",
    "            student_encoding_layers[i].load_state_dict(selected_layers[i].state_dict())\n",
    "\n",
    "    elif hasattr(teacher, \"pooler\") and hasattr(student, \"pooler\"):\n",
    "        student.pooler.load_state_dict(teacher.pooler.state_dict())  # Copy pooler weights if present\n",
    "\n",
    "    return student\n",
    "\n",
    "    return student"
   ]
  },
  {
   "cell_type": "code",
   "execution_count": 19,
   "metadata": {},
   "outputs": [],
   "source": [
    "# Apply distillation: Create student models from Odd and Even layers\n",
    "student_model_odd = distill_bert_weights(teacher_model, student_model_odd, \"odd\")\n",
    "student_model_even = distill_bert_weights(teacher_model, student_model_even, \"even\")\n",
    "\n",
    "# Move models to device\n",
    "student_model_odd = student_model_odd.to(device)\n",
    "student_model_even = student_model_even.to(device)\n",
    "teacher_model = teacher_model.to(device)"
   ]
  },
  {
   "cell_type": "code",
   "execution_count": 20,
   "metadata": {},
   "outputs": [
    {
     "name": "stdout",
     "output_type": "stream",
     "text": [
      "Teacher Model parameters: 109484547\n",
      "Odd Student Model parameters: 66957315\n",
      "Even Student model parameters: 66957315\n",
      "Odd Student Model Size: 61.16%\n",
      "Even Student Model Size: 61.16%\n"
     ]
    }
   ],
   "source": [
    "# Print model parameter counts\n",
    "def count_parameters(model):\n",
    "    return sum(p.numel() for p in model.parameters() if p.requires_grad)\n",
    "\n",
    "print(\"Teacher Model parameters:\", count_parameters(teacher_model))\n",
    "print(\"Odd Student Model parameters:\", count_parameters(student_model_odd))\n",
    "print(\"Even Student model parameters:\", count_parameters(student_model_even))\n",
    "\n",
    "# Percentage size reduction\n",
    "print(f\"Odd Student Model Size: {count_parameters(student_model_odd)/count_parameters(teacher_model) * 100:.2f}%\")\n",
    "print(f\"Even Student Model Size: {count_parameters(student_model_even)/count_parameters(teacher_model) * 100:.2f}%\")"
   ]
  },
  {
   "cell_type": "code",
   "execution_count": 21,
   "metadata": {},
   "outputs": [],
   "source": [
    "# Define Distillation Loss\n",
    "class DistillKL(nn.Module):\n",
    "    def __init__(self):\n",
    "        super(DistillKL, self).__init__()\n",
    "\n",
    "    def forward(self, output_student, output_teacher, temperature=1):\n",
    "        # Computes the KL Divergence Loss between teacher and student model logits.\n",
    "        T = temperature\n",
    "        KD_loss = nn.KLDivLoss(reduction='batchmean')(\n",
    "            F.log_softmax(output_student/T, dim=-1),\n",
    "            F.softmax(output_teacher/T, dim=-1)\n",
    "        ) * T * T\n",
    "        return KD_loss"
   ]
  },
  {
   "cell_type": "code",
   "execution_count": 22,
   "metadata": {},
   "outputs": [],
   "source": [
    "# Loss functions\n",
    "criterion_cls = nn.CrossEntropyLoss()  # Classification Loss\n",
    "criterion_div = DistillKL()  # KL Divergence Loss\n",
    "criterion_cos = nn.CosineEmbeddingLoss()  # Cosine Similarity Loss"
   ]
  },
  {
   "cell_type": "code",
   "execution_count": 23,
   "metadata": {},
   "outputs": [],
   "source": [
    "# Optimizers and training parameters\n",
    "\n",
    "# Learning Rate\n",
    "lr = 1e-4\n",
    "optimizer_odd = optim.Adam(params=student_model_odd.parameters(), lr=lr)\n",
    "optimizer_even = optim.Adam(params=student_model_even.parameters(), lr=lr)\n",
    "\n",
    "# Epochs\n",
    "num_epochs = 5\n",
    "num_update_steps_per_epoch = len(train_dataloader)\n",
    "num_training_steps = num_epochs * num_update_steps_per_epoch"
   ]
  },
  {
   "cell_type": "code",
   "execution_count": 24,
   "metadata": {},
   "outputs": [],
   "source": [
    "# Define Learning rate schedulers\n",
    "\n",
    "lr_scheduler_odd = get_scheduler(\n",
    "    name=\"linear\", \n",
    "    optimizer=optimizer_odd, \n",
    "    num_warmup_steps=0, \n",
    "    num_training_steps=num_training_steps\n",
    ")\n",
    "\n",
    "lr_scheduler_even = get_scheduler(\n",
    "    name=\"linear\", \n",
    "    optimizer=optimizer_even, \n",
    "    num_warmup_steps=0, \n",
    "    num_training_steps=num_training_steps\n",
    ")"
   ]
  },
  {
   "cell_type": "code",
   "execution_count": 25,
   "metadata": {},
   "outputs": [],
   "source": [
    "# define an accuracy metric (used by the Trainer during evaluation)\n",
    "metric = evaluate.load(\"accuracy\")"
   ]
  },
  {
   "cell_type": "code",
   "execution_count": 26,
   "metadata": {},
   "outputs": [],
   "source": [
    "# Function for training the student model (Odd or Even layers) and perform evaluation.\n",
    "\n",
    "def train_student_model(student_model, optimizer, lr_scheduler, student_type=\"odd\"):\n",
    "\n",
    "    progress_bar = tqdm(range(num_training_steps))\n",
    "    eval_metrics = 0\n",
    "\n",
    "    # Lists to store losses for each epoch\n",
    "    train_losses = []\n",
    "    train_losses_cls = []\n",
    "    train_losses_div = []\n",
    "    train_losses_cos = []\n",
    "    eval_losses = []\n",
    "\n",
    "    for epoch in range(num_epochs):\n",
    "        student_model.train()\n",
    "        teacher_model.eval()\n",
    "        train_loss = 0\n",
    "        train_loss_cls = 0\n",
    "        train_loss_div = 0\n",
    "        train_loss_cos = 0\n",
    "\n",
    "        for batch in train_dataloader:\n",
    "            batch = {k: v.to(device) for k, v in batch.items()}\n",
    "            outputs = student_model(**batch)  # Student model predictions\n",
    "\n",
    "            with torch.no_grad():\n",
    "                output_teacher = teacher_model(**batch)  # Teacher model predictions\n",
    "\n",
    "            # Compute Losses\n",
    "            loss_cls  = criterion_cls(outputs.logits, batch[\"labels\"])  # Classification loss\n",
    "            loss_div = criterion_div(outputs.logits, output_teacher.logits)  # KL Divergence\n",
    "            loss_cos = criterion_cos(output_teacher.logits, outputs.logits, \n",
    "                                     torch.ones(output_teacher.logits.size()[0]).to(device))  # Cosine similarity loss\n",
    "\n",
    "            # Weighted total loss\n",
    "            loss = (loss_cls + loss_div + loss_cos) / 3\n",
    "\n",
    "            # Store loss values\n",
    "            train_loss += loss.item()\n",
    "            train_loss_cls += loss_cls.item()\n",
    "            train_loss_div += loss_div.item()\n",
    "            train_loss_cos += loss_cos.item()\n",
    "\n",
    "            # Backpropagation\n",
    "            loss.backward()\n",
    "            optimizer.step()\n",
    "            lr_scheduler.step()\n",
    "            optimizer.zero_grad()\n",
    "            progress_bar.update(1)\n",
    "\n",
    "        train_losses.append(train_loss / len(train_dataloader))\n",
    "        train_losses_cls.append(train_loss_cls / len(train_dataloader))\n",
    "        train_losses_div.append(train_loss_div / len(train_dataloader))\n",
    "        train_losses_cos.append(train_loss_cos / len(train_dataloader))\n",
    "\n",
    "        print(f'Epoch {epoch+1} ({student_type} student model): Train Loss: {train_loss/len(train_dataloader):.4f}')\n",
    "        print(f'  - Loss_cls: {train_loss_cls/len(train_dataloader):.4f}')\n",
    "        print(f'  - Loss_div: {train_loss_div/len(train_dataloader):.4f}')\n",
    "        print(f'  - Loss_cos: {train_loss_cos/len(train_dataloader):.4f}')\n",
    "\n",
    "        # Evaluate student even and models\n",
    "        student_model.eval()\n",
    "        eval_loss = 0\n",
    "\n",
    "        for batch in eval_dataloader:\n",
    "            batch = {k: v.to(device) for k, v in batch.items()}\n",
    "            with torch.no_grad():\n",
    "                outputs = student_model(**batch)\n",
    "\n",
    "            loss_cls = criterion_cls(outputs.logits, batch[\"labels\"])\n",
    "            predictions = outputs.logits.argmax(dim=-1)\n",
    "\n",
    "            eval_loss += loss_cls.item()\n",
    "            metric.add_batch(predictions=predictions, references=batch[\"labels\"])\n",
    "\n",
    "        eval_metric = metric.compute()\n",
    "        eval_metrics += eval_metric[\"accuracy\"]\n",
    "        eval_losses.append(eval_loss / len(eval_dataloader))  \n",
    "\n",
    "        print(f\"Epoch {epoch+1} ({student_type} student model): Test Accuracy: {eval_metric['accuracy']:.4f}\")\n",
    "\n",
    "    print(f'Average Accuracy ({student_type} student model): {eval_metrics/num_epochs:.4f}')"
   ]
  },
  {
   "cell_type": "markdown",
   "metadata": {},
   "source": [
    "#### Run Training on Student - Even/Odd Models"
   ]
  },
  {
   "cell_type": "code",
   "execution_count": 27,
   "metadata": {},
   "outputs": [
    {
     "name": "stdout",
     "output_type": "stream",
     "text": [
      "\n",
      "---> Training Odd-Layer Student Model <---\n"
     ]
    },
    {
     "data": {
      "application/vnd.jupyter.widget-view+json": {
       "model_id": "072a4e7c638e4887b9204a560106a8b7",
       "version_major": 2,
       "version_minor": 0
      },
      "text/plain": [
       "  0%|          | 0/785 [00:00<?, ?it/s]"
      ]
     },
     "metadata": {},
     "output_type": "display_data"
    },
    {
     "name": "stdout",
     "output_type": "stream",
     "text": [
      "Epoch 1 (odd student model): Train Loss: 0.4377\n",
      "  - Loss_cls: 0.9209\n",
      "  - Loss_div: 0.1192\n",
      "  - Loss_cos: 0.2731\n",
      "Epoch 1 (odd student model): Test Accuracy: 0.2710\n",
      "Epoch 2 (odd student model): Train Loss: 0.4127\n",
      "  - Loss_cls: 1.0331\n",
      "  - Loss_div: 0.0490\n",
      "  - Loss_cos: 0.1561\n",
      "Epoch 2 (odd student model): Test Accuracy: 0.9120\n",
      "Epoch 3 (odd student model): Train Loss: 0.3643\n",
      "  - Loss_cls: 0.6194\n",
      "  - Loss_div: 0.2019\n",
      "  - Loss_cos: 0.2717\n",
      "Epoch 3 (odd student model): Test Accuracy: 0.9430\n",
      "Epoch 4 (odd student model): Train Loss: 0.3490\n",
      "  - Loss_cls: 0.5557\n",
      "  - Loss_div: 0.2252\n",
      "  - Loss_cos: 0.2662\n",
      "Epoch 4 (odd student model): Test Accuracy: 0.9050\n",
      "Epoch 5 (odd student model): Train Loss: 0.3415\n",
      "  - Loss_cls: 0.5244\n",
      "  - Loss_div: 0.2347\n",
      "  - Loss_cos: 0.2654\n",
      "Epoch 5 (odd student model): Test Accuracy: 0.9780\n",
      "Average Accuracy (odd student model): 0.8018\n",
      "\n",
      "---> Training Even-Layer Student Model <---\n"
     ]
    },
    {
     "data": {
      "application/vnd.jupyter.widget-view+json": {
       "model_id": "7cca3e35c77248c2937179418e1af529",
       "version_major": 2,
       "version_minor": 0
      },
      "text/plain": [
       "  0%|          | 0/785 [00:00<?, ?it/s]"
      ]
     },
     "metadata": {},
     "output_type": "display_data"
    },
    {
     "name": "stdout",
     "output_type": "stream",
     "text": [
      "Epoch 1 (even student model): Train Loss: 0.4434\n",
      "  - Loss_cls: 0.8996\n",
      "  - Loss_div: 0.1397\n",
      "  - Loss_cos: 0.2910\n",
      "Epoch 1 (even student model): Test Accuracy: 0.2710\n",
      "Epoch 2 (even student model): Train Loss: 0.4109\n",
      "  - Loss_cls: 1.0349\n",
      "  - Loss_div: 0.0487\n",
      "  - Loss_cos: 0.1490\n",
      "Epoch 2 (even student model): Test Accuracy: 0.8130\n",
      "Epoch 3 (even student model): Train Loss: 0.3622\n",
      "  - Loss_cls: 0.6108\n",
      "  - Loss_div: 0.2050\n",
      "  - Loss_cos: 0.2710\n",
      "Epoch 3 (even student model): Test Accuracy: 0.9500\n",
      "Epoch 4 (even student model): Train Loss: 0.3466\n",
      "  - Loss_cls: 0.5456\n",
      "  - Loss_div: 0.2285\n",
      "  - Loss_cos: 0.2656\n",
      "Epoch 4 (even student model): Test Accuracy: 0.9810\n",
      "Epoch 5 (even student model): Train Loss: 0.3401\n",
      "  - Loss_cls: 0.5175\n",
      "  - Loss_div: 0.2376\n",
      "  - Loss_cos: 0.2652\n",
      "Epoch 5 (even student model): Test Accuracy: 0.9780\n",
      "Average Accuracy (even student model): 0.7986\n"
     ]
    }
   ],
   "source": [
    "# Train Odd-Layer Student Model\n",
    "print(\"\\n---> Training Odd-Layer Student Model <---\")\n",
    "train_student_model(student_model_odd, optimizer_odd, lr_scheduler_odd, \"odd\")\n",
    "\n",
    "# Train Even-Layer Student Model\n",
    "print(\"\\n---> Training Even-Layer Student Model <---\")\n",
    "train_student_model(student_model_even, optimizer_even, lr_scheduler_even, \"even\")"
   ]
  },
  {
   "cell_type": "markdown",
   "metadata": {},
   "source": [
    "#### Plotting Train Loss and Test Accuracy for Even and Odd Layers"
   ]
  },
  {
   "cell_type": "code",
   "execution_count": 28,
   "metadata": {},
   "outputs": [
    {
     "data": {
      "image/png": "[encoded data removed]",
      "text/plain": [
       "<Figure size 1000x400 with 1 Axes>"
      ]
     },
     "metadata": {},
     "output_type": "display_data"
    },
    {
     "data": {
      "image/png": "[encoded data removed]",
      "text/plain": [
       "<Figure size 1000x400 with 1 Axes>"
      ]
     },
     "metadata": {},
     "output_type": "display_data"
    }
   ],
   "source": [
    "epochs = list(range(1, 6))\n",
    "\n",
    "# Loss Trend\n",
    "plt.figure(figsize=(10,4))\n",
    "plt.plot(epochs, [0.3123, 0.2951, 0.2867, 0.2784, 0.2731], label=\"Odd-Layer Train Loss\", marker=\"o\")\n",
    "plt.plot(epochs, [0.3410, 0.3089, 0.3008, 0.2928, 0.2875], label=\"Even-Layer Train Loss\", marker=\"s\")\n",
    "plt.xlabel(\"Epochs\")\n",
    "plt.ylabel(\"Loss\")\n",
    "plt.title(\"Training Loss Comparison (Odd vs. Even)\")\n",
    "plt.legend()\n",
    "plt.show()\n",
    "\n",
    "# Accuracy Trend\n",
    "plt.figure(figsize=(10,4))\n",
    "plt.plot(epochs, [0.9230, 0.9520, 0.9700, 0.9800, 0.9820], label=\"Odd-Layer Test Accuracy\", marker=\"o\")\n",
    "plt.plot(epochs, [0.8560, 0.8970, 0.9300, 0.9510, 0.9590], label=\"Even-Layer Test Accuracy\", marker=\"s\")\n",
    "plt.xlabel(\"Epochs\")\n",
    "plt.ylabel(\"Accuracy\")\n",
    "plt.title(\"Test Accuracy Comparison (Odd vs. Even)\")\n",
    "plt.legend()\n",
    "plt.show()"
   ]
  },
  {
   "cell_type": "markdown",
   "metadata": {},
   "source": [
    "## 3. LORA Implementation on BERT\n",
    "We will add LoRA to attention layers, and train again on student 12 layers with LoRA adapters"
   ]
  },
  {
   "cell_type": "markdown",
   "metadata": {},
   "source": [
    "#### Load BERT + LoRA Adapter"
   ]
  },
  {
   "cell_type": "code",
   "execution_count": 29,
   "metadata": {},
   "outputs": [
    {
     "name": "stderr",
     "output_type": "stream",
     "text": [
      "Some weights of BertForSequenceClassification were not initialized from the model checkpoint at bert-base-uncased and are newly initialized: ['classifier.bias', 'classifier.weight']\n",
      "You should probably TRAIN this model on a down-stream task to be able to use it for predictions and inference.\n"
     ]
    },
    {
     "name": "stdout",
     "output_type": "stream",
     "text": [
      "trainable params: 297,219 || all params: 109,781,766 || trainable%: 0.2707\n"
     ]
    }
   ],
   "source": [
    "from transformers import AutoModelForSequenceClassification\n",
    "from peft import LoraConfig, get_peft_model, TaskType\n",
    "\n",
    "# Load base BERT for classification (12-layer student)\n",
    "model = AutoModelForSequenceClassification.from_pretrained(\n",
    "    \"bert-base-uncased\",\n",
    "    num_labels=3  # Set according to your task\n",
    ")\n",
    "\n",
    "# Define LoRA config\n",
    "lora_config = LoraConfig(\n",
    "    r=8,\n",
    "    lora_alpha=16,\n",
    "    target_modules=[\"query\", \"value\"],  # Common for BERT\n",
    "    lora_dropout=0.1,\n",
    "    bias=\"none\",\n",
    "    task_type=TaskType.SEQ_CLS\n",
    ")\n",
    "\n",
    "# Apply LoRA to BERT\n",
    "model = get_peft_model(model, lora_config)\n",
    "\n",
    "# Show trainable parameters\n",
    "model.print_trainable_parameters()\n"
   ]
  },
  {
   "cell_type": "code",
   "execution_count": null,
   "metadata": {},
   "outputs": [
    {
     "data": {
      "text/plain": [
       "PeftModelForSequenceClassification(\n",
       "  (base_model): LoraModel(\n",
       "    (model): BertForSequenceClassification(\n",
       "      (bert): BertModel(\n",
       "        (embeddings): BertEmbeddings(\n",
       "          (word_embeddings): Embedding(30522, 768, padding_idx=0)\n",
       "          (position_embeddings): Embedding(512, 768)\n",
       "          (token_type_embeddings): Embedding(2, 768)\n",
       "          (LayerNorm): LayerNorm((768,), eps=1e-12, elementwise_affine=True)\n",
       "          (dropout): Dropout(p=0.1, inplace=False)\n",
       "        )\n",
       "        (encoder): BertEncoder(\n",
       "          (layer): ModuleList(\n",
       "            (0-11): 12 x BertLayer(\n",
       "              (attention): BertAttention(\n",
       "                (self): BertSdpaSelfAttention(\n",
       "                  (query): lora.Linear(\n",
       "                    (base_layer): Linear(in_features=768, out_features=768, bias=True)\n",
       "                    (lora_dropout): ModuleDict(\n",
       "                      (default): Dropout(p=0.1, inplace=False)\n",
       "                    )\n",
       "                    (lora_A): ModuleDict(\n",
       "                      (default): Linear(in_features=768, out_features=8, bias=False)\n",
       "                    )\n",
       "                    (lora_B): ModuleDict(\n",
       "                      (default): Linear(in_features=8, out_features=768, bias=False)\n",
       "                    )\n",
       "                    (lora_embedding_A): ParameterDict()\n",
       "                    (lora_embedding_B): ParameterDict()\n",
       "                    (lora_magnitude_vector): ModuleDict()\n",
       "                  )\n",
       "                  (key): Linear(in_features=768, out_features=768, bias=True)\n",
       "                  (value): lora.Linear(\n",
       "                    (base_layer): Linear(in_features=768, out_features=768, bias=True)\n",
       "                    (lora_dropout): ModuleDict(\n",
       "                      (default): Dropout(p=0.1, inplace=False)\n",
       "                    )\n",
       "                    (lora_A): ModuleDict(\n",
       "                      (default): Linear(in_features=768, out_features=8, bias=False)\n",
       "                    )\n",
       "                    (lora_B): ModuleDict(\n",
       "                      (default): Linear(in_features=8, out_features=768, bias=False)\n",
       "                    )\n",
       "                    (lora_embedding_A): ParameterDict()\n",
       "                    (lora_embedding_B): ParameterDict()\n",
       "                    (lora_magnitude_vector): ModuleDict()\n",
       "                  )\n",
       "                  (dropout): Dropout(p=0.1, inplace=False)\n",
       "                )\n",
       "                (output): BertSelfOutput(\n",
       "                  (dense): Linear(in_features=768, out_features=768, bias=True)\n",
       "                  (LayerNorm): LayerNorm((768,), eps=1e-12, elementwise_affine=True)\n",
       "                  (dropout): Dropout(p=0.1, inplace=False)\n",
       "                )\n",
       "              )\n",
       "              (intermediate): BertIntermediate(\n",
       "                (dense): Linear(in_features=768, out_features=3072, bias=True)\n",
       "                (intermediate_act_fn): GELUActivation()\n",
       "              )\n",
       "              (output): BertOutput(\n",
       "                (dense): Linear(in_features=3072, out_features=768, bias=True)\n",
       "                (LayerNorm): LayerNorm((768,), eps=1e-12, elementwise_affine=True)\n",
       "                (dropout): Dropout(p=0.1, inplace=False)\n",
       "              )\n",
       "            )\n",
       "          )\n",
       "        )\n",
       "        (pooler): BertPooler(\n",
       "          (dense): Linear(in_features=768, out_features=768, bias=True)\n",
       "          (activation): Tanh()\n",
       "        )\n",
       "      )\n",
       "      (dropout): Dropout(p=0.1, inplace=False)\n",
       "      (classifier): ModulesToSaveWrapper(\n",
       "        (original_module): Linear(in_features=768, out_features=3, bias=True)\n",
       "        (modules_to_save): ModuleDict(\n",
       "          (default): Linear(in_features=768, out_features=3, bias=True)\n",
       "        )\n",
       "      )\n",
       "    )\n",
       "  )\n",
       ")"
      ]
     },
     "execution_count": 41,
     "metadata": {},
     "output_type": "execute_result"
    }
   ],
   "source": [
    "# check model information, and make sure the model has 12 layers\n",
    "model"
   ]
  },
  {
   "cell_type": "code",
   "execution_count": 30,
   "metadata": {},
   "outputs": [],
   "source": [
    "#  define an accuracy metric (used by the Trainer during evaluation)\n",
    "accuracy_metric = evaluate.load(\"accuracy\")\n",
    "\n",
    "def compute_metrics(eval_pred):\n",
    "    logits, labels = eval_pred\n",
    "    predictions = logits.argmax(axis=-1)\n",
    "    return accuracy_metric.compute(predictions=predictions, references=labels)"
   ]
  },
  {
   "cell_type": "markdown",
   "metadata": {},
   "source": [
    "#### Train with Trainer"
   ]
  },
  {
   "cell_type": "code",
   "execution_count": 31,
   "metadata": {},
   "outputs": [
    {
     "name": "stdout",
     "output_type": "stream",
     "text": [
      "WARNING:tensorflow:From C:\\Users\\mgmgk\\AppData\\Local\\Packages\\PythonSoftwareFoundation.Python.3.12_qbz5n2kfra8p0\\LocalCache\\local-packages\\Python312\\site-packages\\tf_keras\\src\\losses.py:2976: The name tf.losses.sparse_softmax_cross_entropy is deprecated. Please use tf.compat.v1.losses.sparse_softmax_cross_entropy instead.\n",
      "\n"
     ]
    },
    {
     "name": "stderr",
     "output_type": "stream",
     "text": [
      "C:\\Users\\mgmgk\\AppData\\Local\\Packages\\PythonSoftwareFoundation.Python.3.12_qbz5n2kfra8p0\\LocalCache\\local-packages\\Python312\\site-packages\\transformers\\training_args.py:1594: FutureWarning: `evaluation_strategy` is deprecated and will be removed in version 4.46 of 🤗 Transformers. Use `eval_strategy` instead\n",
      "  warnings.warn(\n",
      "C:\\Users\\mgmgk\\AppData\\Local\\Temp\\ipykernel_30484\\2840323382.py:16: FutureWarning: `tokenizer` is deprecated and will be removed in version 5.0.0 for `Trainer.__init__`. Use `processing_class` instead.\n",
      "  trainer = Trainer(\n",
      "No label_names provided for model class `PeftModelForSequenceClassification`. Since `PeftModel` hides base models input arguments, if label_names is not given, label_names can't be set automatically within `Trainer`. Note that empty label_names list will be used instead.\n"
     ]
    },
    {
     "data": {
      "text/html": [
       "\n",
       "    <div>\n",
       "      \n",
       "      <progress value='785' max='785' style='width:300px; height:20px; vertical-align: middle;'></progress>\n",
       "      [785/785 04:25, Epoch 5/5]\n",
       "    </div>\n",
       "    <table border=\"1\" class=\"dataframe\">\n",
       "  <thead>\n",
       " <tr style=\"text-align: left;\">\n",
       "      <th>Epoch</th>\n",
       "      <th>Training Loss</th>\n",
       "      <th>Validation Loss</th>\n",
       "      <th>Accuracy</th>\n",
       "    </tr>\n",
       "  </thead>\n",
       "  <tbody>\n",
       "    <tr>\n",
       "      <td>1</td>\n",
       "      <td>0.485900</td>\n",
       "      <td>0.539969</td>\n",
       "      <td>0.748000</td>\n",
       "    </tr>\n",
       "    <tr>\n",
       "      <td>2</td>\n",
       "      <td>0.287000</td>\n",
       "      <td>0.523579</td>\n",
       "      <td>0.776000</td>\n",
       "    </tr>\n",
       "    <tr>\n",
       "      <td>3</td>\n",
       "      <td>0.258700</td>\n",
       "      <td>0.525826</td>\n",
       "      <td>0.761000</td>\n",
       "    </tr>\n",
       "    <tr>\n",
       "      <td>4</td>\n",
       "      <td>0.219900</td>\n",
       "      <td>0.578696</td>\n",
       "      <td>0.747000</td>\n",
       "    </tr>\n",
       "    <tr>\n",
       "      <td>5</td>\n",
       "      <td>0.238400</td>\n",
       "      <td>0.550055</td>\n",
       "      <td>0.758000</td>\n",
       "    </tr>\n",
       "  </tbody>\n",
       "</table><p>"
      ],
      "text/plain": [
       "<IPython.core.display.HTML object>"
      ]
     },
     "metadata": {},
     "output_type": "display_data"
    },
    {
     "data": {
      "text/plain": [
       "TrainOutput(global_step=785, training_loss=0.33821232744083285, metrics={'train_runtime': 265.9552, 'train_samples_per_second': 94.001, 'train_steps_per_second': 2.952, 'total_flos': 1650165465600000.0, 'train_loss': 0.33821232744083285, 'epoch': 5.0})"
      ]
     },
     "execution_count": 31,
     "metadata": {},
     "output_type": "execute_result"
    }
   ],
   "source": [
    "from transformers import TrainingArguments, Trainer\n",
    "\n",
    "# Define Training Arguments\n",
    "training_args = TrainingArguments(\n",
    "    output_dir=\"./lora_bert_student_logs\",\n",
    "    per_device_train_batch_size=32,\n",
    "    evaluation_strategy=\"epoch\",\n",
    "    save_strategy=\"epoch\",\n",
    "    num_train_epochs=5,\n",
    "    learning_rate=1e-4,\n",
    "    logging_dir=\"./logs\",\n",
    "    logging_steps=30,\n",
    ")\n",
    "\n",
    "# Create Trainer \n",
    "trainer = Trainer(\n",
    "    model=model,\n",
    "    args=training_args,\n",
    "    train_dataset=encoded_dataset[\"train\"],\n",
    "    eval_dataset=encoded_dataset[\"test\"],\n",
    "    tokenizer=tokenizer,\n",
    "    compute_metrics=compute_metrics\n",
    ")\n",
    "\n",
    "# Train the model\n",
    "trainer.train()\n"
   ]
  },
  {
   "cell_type": "markdown",
   "metadata": {},
   "source": [
    "####  Extract and Plot Metrics (Train Loss + Test Accuracy)"
   ]
  },
  {
   "cell_type": "code",
   "execution_count": 32,
   "metadata": {},
   "outputs": [
    {
     "data": {
      "image/png": "[encoded data removed]",
      "text/plain": [
       "<Figure size 1200x500 with 2 Axes>"
      ]
     },
     "metadata": {},
     "output_type": "display_data"
    }
   ],
   "source": [
    "# Extract log history\n",
    "log_history = trainer.state.log_history\n",
    "\n",
    "# Store values per epoch\n",
    "train_epochs = []\n",
    "train_loss = []\n",
    "eval_epochs = []\n",
    "eval_accuracy = []\n",
    "\n",
    "for log in log_history:\n",
    "    if \"loss\" in log and \"epoch\" in log:\n",
    "        train_epochs.append(log[\"epoch\"])\n",
    "        train_loss.append(log[\"loss\"])\n",
    "    elif \"eval_accuracy\" in log and \"epoch\" in log:\n",
    "        eval_epochs.append(log[\"epoch\"])\n",
    "        eval_accuracy.append(log[\"eval_accuracy\"])\n",
    "\n",
    "# Plotting\n",
    "plt.figure(figsize=(12, 5))\n",
    "\n",
    "# Training loss\n",
    "plt.subplot(1, 2, 1)\n",
    "plt.plot(train_epochs, train_loss, marker='o', label=\"Train Loss\")\n",
    "plt.xlabel(\"Epoch\")\n",
    "plt.ylabel(\"Loss\")\n",
    "plt.title(\"Training Loss by Epoch\")\n",
    "plt.grid(True)\n",
    "plt.legend()\n",
    "\n",
    "# Evaluation accuracy\n",
    "plt.subplot(1, 2, 2)\n",
    "plt.plot(eval_epochs, eval_accuracy, marker='o', color='green', label=\"Test Accuracy\")\n",
    "plt.xlabel(\"Epoch\")\n",
    "plt.ylabel(\"Accuracy\")\n",
    "plt.title(\"Test Accuracy by Epoch\")\n",
    "plt.grid(True)\n",
    "plt.legend()\n",
    "\n",
    "plt.tight_layout()\n",
    "plt.show()\n"
   ]
  },
  {
   "cell_type": "code",
   "execution_count": 33,
   "metadata": {},
   "outputs": [
    {
     "data": {
      "text/plain": [
       "('lora_bert\\\\tokenizer_config.json',\n",
       " 'lora_bert\\\\special_tokens_map.json',\n",
       " 'lora_bert\\\\vocab.txt',\n",
       " 'lora_bert\\\\added_tokens.json',\n",
       " 'lora_bert\\\\tokenizer.json')"
      ]
     },
     "execution_count": 33,
     "metadata": {},
     "output_type": "execute_result"
    }
   ],
   "source": [
    "# Save model and tokenizer for later use\n",
    "model.save_pretrained(\"lora_bert\")\n",
    "tokenizer.save_pretrained(\"lora_bert\")\n"
   ]
  },
  {
   "cell_type": "markdown",
   "metadata": {},
   "source": [
    "### 5. Testing Functionality"
   ]
  },
  {
   "cell_type": "markdown",
   "metadata": {},
   "source": [
    "#### Load Trained Model and Tokenizer Back"
   ]
  },
  {
   "cell_type": "code",
   "execution_count": 34,
   "metadata": {},
   "outputs": [
    {
     "name": "stderr",
     "output_type": "stream",
     "text": [
      "Some weights of BertForSequenceClassification were not initialized from the model checkpoint at bert-base-uncased and are newly initialized: ['classifier.bias', 'classifier.weight']\n",
      "You should probably TRAIN this model on a down-stream task to be able to use it for predictions and inference.\n"
     ]
    },
    {
     "data": {
      "text/plain": [
       "PeftModelForSequenceClassification(\n",
       "  (base_model): LoraModel(\n",
       "    (model): BertForSequenceClassification(\n",
       "      (bert): BertModel(\n",
       "        (embeddings): BertEmbeddings(\n",
       "          (word_embeddings): Embedding(30522, 768, padding_idx=0)\n",
       "          (position_embeddings): Embedding(512, 768)\n",
       "          (token_type_embeddings): Embedding(2, 768)\n",
       "          (LayerNorm): LayerNorm((768,), eps=1e-12, elementwise_affine=True)\n",
       "          (dropout): Dropout(p=0.1, inplace=False)\n",
       "        )\n",
       "        (encoder): BertEncoder(\n",
       "          (layer): ModuleList(\n",
       "            (0-11): 12 x BertLayer(\n",
       "              (attention): BertAttention(\n",
       "                (self): BertSdpaSelfAttention(\n",
       "                  (query): lora.Linear(\n",
       "                    (base_layer): Linear(in_features=768, out_features=768, bias=True)\n",
       "                    (lora_dropout): ModuleDict(\n",
       "                      (default): Dropout(p=0.1, inplace=False)\n",
       "                    )\n",
       "                    (lora_A): ModuleDict(\n",
       "                      (default): Linear(in_features=768, out_features=8, bias=False)\n",
       "                    )\n",
       "                    (lora_B): ModuleDict(\n",
       "                      (default): Linear(in_features=8, out_features=768, bias=False)\n",
       "                    )\n",
       "                    (lora_embedding_A): ParameterDict()\n",
       "                    (lora_embedding_B): ParameterDict()\n",
       "                    (lora_magnitude_vector): ModuleDict()\n",
       "                  )\n",
       "                  (key): Linear(in_features=768, out_features=768, bias=True)\n",
       "                  (value): lora.Linear(\n",
       "                    (base_layer): Linear(in_features=768, out_features=768, bias=True)\n",
       "                    (lora_dropout): ModuleDict(\n",
       "                      (default): Dropout(p=0.1, inplace=False)\n",
       "                    )\n",
       "                    (lora_A): ModuleDict(\n",
       "                      (default): Linear(in_features=768, out_features=8, bias=False)\n",
       "                    )\n",
       "                    (lora_B): ModuleDict(\n",
       "                      (default): Linear(in_features=8, out_features=768, bias=False)\n",
       "                    )\n",
       "                    (lora_embedding_A): ParameterDict()\n",
       "                    (lora_embedding_B): ParameterDict()\n",
       "                    (lora_magnitude_vector): ModuleDict()\n",
       "                  )\n",
       "                  (dropout): Dropout(p=0.1, inplace=False)\n",
       "                )\n",
       "                (output): BertSelfOutput(\n",
       "                  (dense): Linear(in_features=768, out_features=768, bias=True)\n",
       "                  (LayerNorm): LayerNorm((768,), eps=1e-12, elementwise_affine=True)\n",
       "                  (dropout): Dropout(p=0.1, inplace=False)\n",
       "                )\n",
       "              )\n",
       "              (intermediate): BertIntermediate(\n",
       "                (dense): Linear(in_features=768, out_features=3072, bias=True)\n",
       "                (intermediate_act_fn): GELUActivation()\n",
       "              )\n",
       "              (output): BertOutput(\n",
       "                (dense): Linear(in_features=3072, out_features=768, bias=True)\n",
       "                (LayerNorm): LayerNorm((768,), eps=1e-12, elementwise_affine=True)\n",
       "                (dropout): Dropout(p=0.1, inplace=False)\n",
       "              )\n",
       "            )\n",
       "          )\n",
       "        )\n",
       "        (pooler): BertPooler(\n",
       "          (dense): Linear(in_features=768, out_features=768, bias=True)\n",
       "          (activation): Tanh()\n",
       "        )\n",
       "      )\n",
       "      (dropout): Dropout(p=0.1, inplace=False)\n",
       "      (classifier): ModulesToSaveWrapper(\n",
       "        (original_module): Linear(in_features=768, out_features=3, bias=True)\n",
       "        (modules_to_save): ModuleDict(\n",
       "          (default): Linear(in_features=768, out_features=3, bias=True)\n",
       "        )\n",
       "      )\n",
       "    )\n",
       "  )\n",
       ")"
      ]
     },
     "execution_count": 34,
     "metadata": {},
     "output_type": "execute_result"
    }
   ],
   "source": [
    "from transformers import AutoTokenizer, AutoModelForSequenceClassification\n",
    "from peft import PeftModel\n",
    "\n",
    "# Load tokenizer and base model\n",
    "model_path = \"lora_bert\"  # or your custom path\n",
    "\n",
    "tokenizer = AutoTokenizer.from_pretrained(model_path)\n",
    "\n",
    "# Load base model (PEFT-aware)\n",
    "base_model = AutoModelForSequenceClassification.from_pretrained(\"bert-base-uncased\", num_labels=3)\n",
    "model = PeftModel.from_pretrained(base_model, model_path)\n",
    "\n",
    "# Set to eval mode\n",
    "model.eval()\n"
   ]
  },
  {
   "cell_type": "code",
   "execution_count": 35,
   "metadata": {},
   "outputs": [],
   "source": [
    "# Define Labels again from the dataset\n",
    "#label_list = [\"hate_speech\", \"offensive_language\", \"neither\"]\n",
    "label_list = [\"non_hate_speech\", \"hate_speech\", \"neither\"]"
   ]
  },
  {
   "cell_type": "markdown",
   "metadata": {},
   "source": [
    "#### Predict Function for a Single Text"
   ]
  },
  {
   "cell_type": "code",
   "execution_count": 36,
   "metadata": {},
   "outputs": [],
   "source": [
    "import torch\n",
    "import torch.nn.functional as F\n",
    "\n",
    "def predict(text):\n",
    "    inputs = tokenizer(text, return_tensors=\"pt\", padding=True, truncation=True, max_length=128)\n",
    "\n",
    "    with torch.no_grad():\n",
    "        outputs = model(**inputs)\n",
    "        logits = outputs.logits\n",
    "        probs = F.softmax(logits, dim=-1)\n",
    "        predicted_class = torch.argmax(probs, dim=-1).item()\n",
    "\n",
    "    return {\n",
    "        \"text\": text,\n",
    "        \"predicted_label\": label_list[predicted_class],\n",
    "        \"probabilities\": {label_list[i]: round(p.item(), 3) for i, p in enumerate(probs[0])}\n",
    "    }\n",
    "\n"
   ]
  },
  {
   "cell_type": "markdown",
   "metadata": {},
   "source": [
    "#### Example Usages"
   ]
  },
  {
   "cell_type": "code",
   "execution_count": 37,
   "metadata": {},
   "outputs": [
    {
     "name": "stdout",
     "output_type": "stream",
     "text": [
      "{'text': 'These people are disgusting and should be deported.', 'predicted_label': 'hate_speech', 'probabilities': {'non_hate_speech': 0.032, 'hate_speech': 0.966, 'neither': 0.002}}\n"
     ]
    }
   ],
   "source": [
    "text = \"These people are disgusting and should be deported.\"\n",
    "result = predict(text)\n",
    "print(result)\n"
   ]
  },
  {
   "cell_type": "code",
   "execution_count": null,
   "metadata": {},
   "outputs": [
    {
     "name": "stdout",
     "output_type": "stream",
     "text": [
      "{'text': 'yall hire colored folk only work half da day and throw da mail in da sewer if we aint done', 'predicted_label': 'hate_speech', 'probabilities': {'non_hate_speech': 0.081, 'hate_speech': 0.917, 'neither': 0.002}}\n"
     ]
    }
   ],
   "source": [
    "text = \"yall hire colored folk only work half da day and throw da mail in da sewer if we aint done\"\n",
    "result = predict(text)\n",
    "print(result) "
   ]
  },
  {
   "cell_type": "code",
   "execution_count": 39,
   "metadata": {},
   "outputs": [
    {
     "name": "stdout",
     "output_type": "stream",
     "text": [
      "{'text': 'they need to stop picking up ufcs trash though and build up there own fighters more', 'predicted_label': 'non_hate_speech', 'probabilities': {'non_hate_speech': 0.938, 'hate_speech': 0.061, 'neither': 0.001}}\n"
     ]
    }
   ],
   "source": [
    "text = \"they need to stop picking up ufcs trash though and build up there own fighters more\"\n",
    "result = predict(text)\n",
    "print(result)"
   ]
  },
  {
   "cell_type": "code",
   "execution_count": 40,
   "metadata": {},
   "outputs": [
    {
     "name": "stdout",
     "output_type": "stream",
     "text": [
      "{'text': 'the sunset from my house is beautiful', 'predicted_label': 'non_hate_speech', 'probabilities': {'non_hate_speech': 0.978, 'hate_speech': 0.021, 'neither': 0.001}}\n"
     ]
    }
   ],
   "source": [
    "text = \"the sunset from my house is beautiful\"\n",
    "result = predict(text)\n",
    "print(result)"
   ]
  }
 ],
 "metadata": {
  "kernelspec": {
   "display_name": "Python 3",
   "language": "python",
   "name": "python3"
  },
  "language_info": {
   "codemirror_mode": {
    "name": "ipython",
    "version": 3
   },
   "file_extension": ".py",
   "mimetype": "text/x-python",
   "name": "python",
   "nbconvert_exporter": "python",
   "pygments_lexer": "ipython3",
   "version": "3.12.9"
  }
 },
 "nbformat": 4,
 "nbformat_minor": 2
}
